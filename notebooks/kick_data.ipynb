{
 "cells": [
  {
   "cell_type": "markdown",
   "id": "7780cb58-972a-4e98-8c38-92db230b3ccd",
   "metadata": {},
   "source": [
    "# Funding Campaigns"
   ]
  },
  {
   "cell_type": "code",
   "execution_count": 6,
   "id": "fbc14470-d8d6-47c5-9ae7-977092b24b37",
   "metadata": {},
   "outputs": [],
   "source": [
    "import pandas as pd\n",
    "from bs4 import BeautifulSoup\n",
    "import requests\n",
    "from os.path import join\n",
    "import wget, os\n",
    "from glob import glob\n",
    "import urllib\n",
    "\n",
    "\n",
    "# pandas by default only shows a few columns, we want them all!\n",
    "%load_ext autoreload\n",
    "\n",
    "%autoreload 2\n",
    "\n",
    "pd.options.display.max_columns = None\n",
    "pd.options.display.max_rows = None"
   ]
  },
  {
   "cell_type": "code",
   "execution_count": 31,
   "id": "3f6042a8-598a-43dd-9ca9-7cd36635922a",
   "metadata": {},
   "outputs": [],
   "source": [
    "path = '../data'"
   ]
  },
  {
   "cell_type": "code",
   "execution_count": 7,
   "id": "ebebf05e-1abd-4e38-bdb6-253681403a7f",
   "metadata": {},
   "outputs": [],
   "source": [
    "web_data = requests.get('https://webrobots.io/kickstarter-dataset/')"
   ]
  },
  {
   "cell_type": "code",
   "execution_count": null,
   "id": "9ed0348c-f394-4bb5-9b2c-3e27a1517482",
   "metadata": {
    "jupyter": {
     "source_hidden": true
    },
    "tags": []
   },
   "outputs": [],
   "source": [
    "path_4_source = join(path, 'kickstarter', 'raw_files')\n",
    "path_4_source"
   ]
  },
  {
   "cell_type": "code",
   "execution_count": 34,
   "id": "760d573d-01c1-483d-8d5d-2ba7bc027e73",
   "metadata": {
    "jupyter": {
     "source_hidden": true
    },
    "tags": []
   },
   "outputs": [],
   "source": [
    "# with open(join(path_4_source, 'indiegogo.html'), 'w') as html:\n",
    "#     html.write(web_data.text)"
   ]
  },
  {
   "cell_type": "code",
   "execution_count": null,
   "id": "f115571a-f91b-4e33-86ef-996804f6340a",
   "metadata": {
    "jupyter": {
     "source_hidden": true
    },
    "tags": []
   },
   "outputs": [],
   "source": [
    "# html_doc = join(path_4_source, 'indiegogo.html')\n",
    "# html_doc"
   ]
  },
  {
   "cell_type": "code",
   "execution_count": 8,
   "id": "a9d72efb-2592-4b83-877c-f00979164f79",
   "metadata": {},
   "outputs": [],
   "source": [
    "# with open(html_doc, 'r') as file: \n",
    "soup = BeautifulSoup(web_data.text, 'html.parser')"
   ]
  },
  {
   "cell_type": "code",
   "execution_count": 16,
   "id": "67502186-f7f2-4243-bdda-4cd5de5c5fe9",
   "metadata": {},
   "outputs": [
    {
     "data": {
      "text/plain": [
       "0                 #content\n",
       "1    https://webrobots.io/\n",
       "Name: links, dtype: object"
      ]
     },
     "execution_count": 16,
     "metadata": {},
     "output_type": "execute_result"
    }
   ],
   "source": [
    "list_of_links = [link.get('href') for link in soup.find_all('a')]\n",
    "our_list = pd.Series(list_of_links, name='links').dropna().reset_index(drop=True)\n",
    "our_list.head(2)"
   ]
  },
  {
   "cell_type": "code",
   "execution_count": 17,
   "id": "e66d616e-108d-4906-ae9c-5a9ec6152f80",
   "metadata": {},
   "outputs": [
    {
     "data": {
      "text/plain": [
       "17    https://s3.amazonaws.com/weruns/forfun/Kicksta...\n",
       "19    https://s3.amazonaws.com/weruns/forfun/Kicksta...\n",
       "21    https://s3.amazonaws.com/weruns/forfun/Kicksta...\n",
       "23    https://s3.amazonaws.com/weruns/forfun/Kicksta...\n",
       "25    https://s3.amazonaws.com/weruns/forfun/Kicksta...\n",
       "Name: links, dtype: object"
      ]
     },
     "execution_count": 17,
     "metadata": {},
     "output_type": "execute_result"
    }
   ],
   "source": [
    "csv_files = our_list.str.endswith('Z.zip')\n",
    "data_we_need = our_list[csv_files]\n",
    "data_we_need.head()"
   ]
  },
  {
   "cell_type": "code",
   "execution_count": 44,
   "id": "3a4b4bed-198c-468c-ad45-fff1ebdca20b",
   "metadata": {},
   "outputs": [],
   "source": [
    "def get_me_all_data(data_we_need, path_to_files):\n",
    "    \"\"\"\n",
    "    NOTE: Only use this function if you intend to download ALL!! of the data.\n",
    "    \n",
    "    Arguments:\n",
    "    urls: pandas series with the links to iterate over\n",
    "    path_to_files: path where you would like to save your files at\n",
    "    countries_unique: iterable with the countries where Airbnb operates\n",
    "    \"\"\"\n",
    "    \n",
    "    new_dir = check_or_add(path_to_files)\n",
    "    \n",
    "    for data in data_we_need: # iterate over the links we want\n",
    "        \n",
    "        name = data.split('/')[-1]\n",
    "        \n",
    "#             date = data[1]['dates'].replace('-', '_')\n",
    "\n",
    "        try: # we first try to download the file with wget\n",
    "            wget.download(data, join(new_dir, name))\n",
    "        except:\n",
    "            try: # if wget doesn't work, we try with urllib\n",
    "                urllib.request.urlretrieve(data, join(new_dir, name))\n",
    "            except:\n",
    "                continue # if urllib doesn't work, we move on to the next one"
   ]
  },
  {
   "cell_type": "code",
   "execution_count": 45,
   "id": "692ace61-1326-4c51-a6f0-c4d3bf8e26ea",
   "metadata": {},
   "outputs": [
    {
     "name": "stdout",
     "output_type": "stream",
     "text": [
      "CPU times: user 5.44 s, sys: 4 s, total: 9.44 s\n",
      "Wall time: 4min 37s\n"
     ]
    }
   ],
   "source": [
    "%%time\n",
    "\n",
    "get_me_all_data(data_we_need, path_4_source)"
   ]
  },
  {
   "cell_type": "code",
   "execution_count": 61,
   "id": "17555cc2-dfaa-4b6f-a377-98e79cfba85c",
   "metadata": {},
   "outputs": [
    {
     "data": {
      "text/plain": [
       "21"
      ]
     },
     "execution_count": 61,
     "metadata": {},
     "output_type": "execute_result"
    }
   ],
   "source": [
    "ddf = dd.read_csv(join('..', 'data', 'indiegogo', 'raw_files', '*Z.zip'), blocksize=None)\n",
    "len(ddf.columns)"
   ]
  }
 ],
 "metadata": {
  "kernelspec": {
   "display_name": "Python 3",
   "language": "python",
   "name": "python3"
  },
  "language_info": {
   "codemirror_mode": {
    "name": "ipython",
    "version": 3
   },
   "file_extension": ".py",
   "mimetype": "text/x-python",
   "name": "python",
   "nbconvert_exporter": "python",
   "pygments_lexer": "ipython3",
   "version": "3.9.5"
  }
 },
 "nbformat": 4,
 "nbformat_minor": 5
}
